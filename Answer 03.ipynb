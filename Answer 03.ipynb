{
 "cells": [
  {
   "cell_type": "markdown",
   "id": "corporate-peninsula",
   "metadata": {},
   "source": [
    "# Objective\n",
    "-  What is the monthly gross margins per product?\n",
    "- Recommendation to the Management for next\n",
    "steps"
   ]
  },
  {
   "cell_type": "markdown",
   "id": "treated-progressive",
   "metadata": {},
   "source": [
    "### Importing Required Libraries"
   ]
  },
  {
   "cell_type": "code",
   "execution_count": 1,
   "id": "quarterly-roulette",
   "metadata": {},
   "outputs": [],
   "source": [
    "# data manipulation\n",
    "import os\n",
    "import pandas as pd\n",
    "\n",
    "# data visulaization\n",
    "import seaborn as sns\n",
    "from scripts.visualization import create_several_barplots_in_a_figure\n",
    "from scripts.visualization import plot_bargraph\n",
    "\n",
    "#generate report\n",
    "from scripts.generate_analytics_report import PDF\n",
    "\n",
    "# custom functions\n",
    "from scripts.utils import read_xlsx\n",
    "from scripts.utils import extract_date_features\n",
    "from scripts.utils import get_commision\n",
    "from scripts.utils import group_by_and_sum_rows\n",
    "\n",
    "sns.set_theme(style=\"whitegrid\")\n",
    "sns.set(rc={'figure.figsize':(11.7,8.27)})"
   ]
  },
  {
   "cell_type": "markdown",
   "id": "damaged-registrar",
   "metadata": {},
   "source": [
    "### Importing the data set"
   ]
  },
  {
   "cell_type": "code",
   "execution_count": 2,
   "id": "functional-forth",
   "metadata": {},
   "outputs": [],
   "source": [
    "data = read_xlsx('Data Analyst - Recruiting Task - Commission Dataset.xlsx', 'data')"
   ]
  },
  {
   "cell_type": "code",
   "execution_count": 3,
   "id": "approved-occasion",
   "metadata": {},
   "outputs": [
    {
     "name": "stdout",
     "output_type": "stream",
     "text": [
      "<class 'pandas.core.frame.DataFrame'>\n",
      "RangeIndex: 657 entries, 0 to 656\n",
      "Data columns (total 5 columns):\n",
      " #   Column       Non-Null Count  Dtype         \n",
      "---  ------       --------------  -----         \n",
      " 0   order_date   657 non-null    datetime64[ns]\n",
      " 1   product      657 non-null    object        \n",
      " 2   provider     657 non-null    object        \n",
      " 3   order_count  657 non-null    float64       \n",
      " 4   revenue      657 non-null    float64       \n",
      "dtypes: datetime64[ns](1), float64(2), object(2)\n",
      "memory usage: 25.8+ KB\n"
     ]
    }
   ],
   "source": [
    "data.info()"
   ]
  },
  {
   "cell_type": "markdown",
   "id": "distinguished-anxiety",
   "metadata": {},
   "source": [
    "# What is the monthly gross margins per product?"
   ]
  },
  {
   "cell_type": "markdown",
   "id": "remarkable-density",
   "metadata": {},
   "source": [
    "##### Feature Engineering\n",
    "Extract Date Features i.e. year, month"
   ]
  },
  {
   "cell_type": "code",
   "execution_count": 4,
   "id": "eligible-lobby",
   "metadata": {},
   "outputs": [
    {
     "data": {
      "text/html": [
       "<div>\n",
       "<style scoped>\n",
       "    .dataframe tbody tr th:only-of-type {\n",
       "        vertical-align: middle;\n",
       "    }\n",
       "\n",
       "    .dataframe tbody tr th {\n",
       "        vertical-align: top;\n",
       "    }\n",
       "\n",
       "    .dataframe thead th {\n",
       "        text-align: right;\n",
       "    }\n",
       "</style>\n",
       "<table border=\"1\" class=\"dataframe\">\n",
       "  <thead>\n",
       "    <tr style=\"text-align: right;\">\n",
       "      <th></th>\n",
       "      <th>order_date</th>\n",
       "      <th>product</th>\n",
       "      <th>provider</th>\n",
       "      <th>order_count</th>\n",
       "      <th>revenue</th>\n",
       "      <th>month</th>\n",
       "      <th>week</th>\n",
       "      <th>year</th>\n",
       "    </tr>\n",
       "  </thead>\n",
       "  <tbody>\n",
       "    <tr>\n",
       "      <th>0</th>\n",
       "      <td>2021-06-21</td>\n",
       "      <td>D</td>\n",
       "      <td>roadrunner</td>\n",
       "      <td>26.0</td>\n",
       "      <td>1789.90</td>\n",
       "      <td>6</td>\n",
       "      <td>25</td>\n",
       "      <td>2021</td>\n",
       "    </tr>\n",
       "    <tr>\n",
       "      <th>1</th>\n",
       "      <td>2021-06-21</td>\n",
       "      <td>D</td>\n",
       "      <td>micky_mouse</td>\n",
       "      <td>9.0</td>\n",
       "      <td>540.78</td>\n",
       "      <td>6</td>\n",
       "      <td>25</td>\n",
       "      <td>2021</td>\n",
       "    </tr>\n",
       "    <tr>\n",
       "      <th>2</th>\n",
       "      <td>2021-06-21</td>\n",
       "      <td>A</td>\n",
       "      <td>micky_mouse</td>\n",
       "      <td>7.0</td>\n",
       "      <td>567.25</td>\n",
       "      <td>6</td>\n",
       "      <td>25</td>\n",
       "      <td>2021</td>\n",
       "    </tr>\n",
       "    <tr>\n",
       "      <th>3</th>\n",
       "      <td>2021-06-21</td>\n",
       "      <td>A</td>\n",
       "      <td>roadrunner</td>\n",
       "      <td>8.0</td>\n",
       "      <td>666.50</td>\n",
       "      <td>6</td>\n",
       "      <td>25</td>\n",
       "      <td>2021</td>\n",
       "    </tr>\n",
       "    <tr>\n",
       "      <th>4</th>\n",
       "      <td>2021-06-21</td>\n",
       "      <td>D</td>\n",
       "      <td>donald_duck</td>\n",
       "      <td>7.0</td>\n",
       "      <td>435.77</td>\n",
       "      <td>6</td>\n",
       "      <td>25</td>\n",
       "      <td>2021</td>\n",
       "    </tr>\n",
       "    <tr>\n",
       "      <th>...</th>\n",
       "      <td>...</td>\n",
       "      <td>...</td>\n",
       "      <td>...</td>\n",
       "      <td>...</td>\n",
       "      <td>...</td>\n",
       "      <td>...</td>\n",
       "      <td>...</td>\n",
       "      <td>...</td>\n",
       "    </tr>\n",
       "    <tr>\n",
       "      <th>652</th>\n",
       "      <td>2021-06-08</td>\n",
       "      <td>B</td>\n",
       "      <td>tom_jerry</td>\n",
       "      <td>0.0</td>\n",
       "      <td>7.25</td>\n",
       "      <td>6</td>\n",
       "      <td>23</td>\n",
       "      <td>2021</td>\n",
       "    </tr>\n",
       "    <tr>\n",
       "      <th>653</th>\n",
       "      <td>2021-06-20</td>\n",
       "      <td>A</td>\n",
       "      <td>donald_duck</td>\n",
       "      <td>2.0</td>\n",
       "      <td>124.75</td>\n",
       "      <td>6</td>\n",
       "      <td>24</td>\n",
       "      <td>2021</td>\n",
       "    </tr>\n",
       "    <tr>\n",
       "      <th>654</th>\n",
       "      <td>2021-06-05</td>\n",
       "      <td>D</td>\n",
       "      <td>tom_jerry</td>\n",
       "      <td>0.0</td>\n",
       "      <td>3.75</td>\n",
       "      <td>6</td>\n",
       "      <td>22</td>\n",
       "      <td>2021</td>\n",
       "    </tr>\n",
       "    <tr>\n",
       "      <th>655</th>\n",
       "      <td>2021-06-20</td>\n",
       "      <td>D</td>\n",
       "      <td>donald_duck</td>\n",
       "      <td>1.0</td>\n",
       "      <td>49.76</td>\n",
       "      <td>6</td>\n",
       "      <td>24</td>\n",
       "      <td>2021</td>\n",
       "    </tr>\n",
       "    <tr>\n",
       "      <th>656</th>\n",
       "      <td>2021-06-02</td>\n",
       "      <td>D</td>\n",
       "      <td>tom_jerry</td>\n",
       "      <td>0.0</td>\n",
       "      <td>1.38</td>\n",
       "      <td>6</td>\n",
       "      <td>22</td>\n",
       "      <td>2021</td>\n",
       "    </tr>\n",
       "  </tbody>\n",
       "</table>\n",
       "<p>657 rows × 8 columns</p>\n",
       "</div>"
      ],
      "text/plain": [
       "    order_date product     provider  order_count  revenue  month  week  year\n",
       "0   2021-06-21       D   roadrunner         26.0  1789.90      6    25  2021\n",
       "1   2021-06-21       D  micky_mouse          9.0   540.78      6    25  2021\n",
       "2   2021-06-21       A  micky_mouse          7.0   567.25      6    25  2021\n",
       "3   2021-06-21       A   roadrunner          8.0   666.50      6    25  2021\n",
       "4   2021-06-21       D  donald_duck          7.0   435.77      6    25  2021\n",
       "..         ...     ...          ...          ...      ...    ...   ...   ...\n",
       "652 2021-06-08       B    tom_jerry          0.0     7.25      6    23  2021\n",
       "653 2021-06-20       A  donald_duck          2.0   124.75      6    24  2021\n",
       "654 2021-06-05       D    tom_jerry          0.0     3.75      6    22  2021\n",
       "655 2021-06-20       D  donald_duck          1.0    49.76      6    24  2021\n",
       "656 2021-06-02       D    tom_jerry          0.0     1.38      6    22  2021\n",
       "\n",
       "[657 rows x 8 columns]"
      ]
     },
     "execution_count": 4,
     "metadata": {},
     "output_type": "execute_result"
    }
   ],
   "source": [
    "\n",
    "data['month'] = extract_date_features(data, \n",
    "                      date_column='order_date',\n",
    "                      feature_name='month')\n",
    "\n",
    "data['week'] = extract_date_features(data, \n",
    "                      date_column='order_date',\n",
    "                      feature_name='week')\n",
    "\n",
    "data['year'] = extract_date_features(data, \n",
    "                      date_column='order_date',\n",
    "                      feature_name='year')\n",
    "data"
   ]
  },
  {
   "cell_type": "markdown",
   "id": "legitimate-entrance",
   "metadata": {},
   "source": [
    "#### Gather Monthly data by product"
   ]
  },
  {
   "cell_type": "markdown",
   "id": "adverse-reconstruction",
   "metadata": {},
   "source": [
    "Calculate monthly revenue per product"
   ]
  },
  {
   "cell_type": "code",
   "execution_count": 5,
   "id": "tamil-gasoline",
   "metadata": {},
   "outputs": [
    {
     "data": {
      "text/html": [
       "<div>\n",
       "<style scoped>\n",
       "    .dataframe tbody tr th:only-of-type {\n",
       "        vertical-align: middle;\n",
       "    }\n",
       "\n",
       "    .dataframe tbody tr th {\n",
       "        vertical-align: top;\n",
       "    }\n",
       "\n",
       "    .dataframe thead th {\n",
       "        text-align: right;\n",
       "    }\n",
       "</style>\n",
       "<table border=\"1\" class=\"dataframe\">\n",
       "  <thead>\n",
       "    <tr style=\"text-align: right;\">\n",
       "      <th></th>\n",
       "      <th>product</th>\n",
       "      <th>provider</th>\n",
       "      <th>year</th>\n",
       "      <th>month</th>\n",
       "      <th>revenue</th>\n",
       "    </tr>\n",
       "  </thead>\n",
       "  <tbody>\n",
       "    <tr>\n",
       "      <th>0</th>\n",
       "      <td>A</td>\n",
       "      <td>donald_duck</td>\n",
       "      <td>2021</td>\n",
       "      <td>5</td>\n",
       "      <td>11477.25</td>\n",
       "    </tr>\n",
       "    <tr>\n",
       "      <th>1</th>\n",
       "      <td>A</td>\n",
       "      <td>donald_duck</td>\n",
       "      <td>2021</td>\n",
       "      <td>6</td>\n",
       "      <td>8287.00</td>\n",
       "    </tr>\n",
       "    <tr>\n",
       "      <th>2</th>\n",
       "      <td>A</td>\n",
       "      <td>micky_mouse</td>\n",
       "      <td>2021</td>\n",
       "      <td>5</td>\n",
       "      <td>17991.50</td>\n",
       "    </tr>\n",
       "    <tr>\n",
       "      <th>3</th>\n",
       "      <td>A</td>\n",
       "      <td>micky_mouse</td>\n",
       "      <td>2021</td>\n",
       "      <td>6</td>\n",
       "      <td>13472.25</td>\n",
       "    </tr>\n",
       "    <tr>\n",
       "      <th>4</th>\n",
       "      <td>A</td>\n",
       "      <td>roadrunner</td>\n",
       "      <td>2021</td>\n",
       "      <td>5</td>\n",
       "      <td>24854.50</td>\n",
       "    </tr>\n",
       "  </tbody>\n",
       "</table>\n",
       "</div>"
      ],
      "text/plain": [
       "  product     provider  year  month   revenue\n",
       "0       A  donald_duck  2021      5  11477.25\n",
       "1       A  donald_duck  2021      6   8287.00\n",
       "2       A  micky_mouse  2021      5  17991.50\n",
       "3       A  micky_mouse  2021      6  13472.25\n",
       "4       A   roadrunner  2021      5  24854.50"
      ]
     },
     "execution_count": 5,
     "metadata": {},
     "output_type": "execute_result"
    }
   ],
   "source": [
    "monthly_data_by_product = group_by_and_sum_rows(data, \n",
    "                                                  group_by_columns=['product','provider','year','month'], \n",
    "                                                  column_to_sum = 'revenue',\n",
    "                                                  resulted_column_name='revenue')\n",
    "monthly_data_by_product.head()"
   ]
  },
  {
   "cell_type": "markdown",
   "id": "outer-designation",
   "metadata": {},
   "source": [
    "Get Total order per month by providers"
   ]
  },
  {
   "cell_type": "code",
   "execution_count": 6,
   "id": "median-series",
   "metadata": {},
   "outputs": [
    {
     "data": {
      "text/html": [
       "<div>\n",
       "<style scoped>\n",
       "    .dataframe tbody tr th:only-of-type {\n",
       "        vertical-align: middle;\n",
       "    }\n",
       "\n",
       "    .dataframe tbody tr th {\n",
       "        vertical-align: top;\n",
       "    }\n",
       "\n",
       "    .dataframe thead th {\n",
       "        text-align: right;\n",
       "    }\n",
       "</style>\n",
       "<table border=\"1\" class=\"dataframe\">\n",
       "  <thead>\n",
       "    <tr style=\"text-align: right;\">\n",
       "      <th></th>\n",
       "      <th>product</th>\n",
       "      <th>provider</th>\n",
       "      <th>year</th>\n",
       "      <th>month</th>\n",
       "      <th>order_count</th>\n",
       "    </tr>\n",
       "  </thead>\n",
       "  <tbody>\n",
       "    <tr>\n",
       "      <th>0</th>\n",
       "      <td>A</td>\n",
       "      <td>donald_duck</td>\n",
       "      <td>2021</td>\n",
       "      <td>5</td>\n",
       "      <td>146.0</td>\n",
       "    </tr>\n",
       "    <tr>\n",
       "      <th>1</th>\n",
       "      <td>A</td>\n",
       "      <td>donald_duck</td>\n",
       "      <td>2021</td>\n",
       "      <td>6</td>\n",
       "      <td>109.0</td>\n",
       "    </tr>\n",
       "    <tr>\n",
       "      <th>2</th>\n",
       "      <td>A</td>\n",
       "      <td>micky_mouse</td>\n",
       "      <td>2021</td>\n",
       "      <td>5</td>\n",
       "      <td>256.0</td>\n",
       "    </tr>\n",
       "    <tr>\n",
       "      <th>3</th>\n",
       "      <td>A</td>\n",
       "      <td>micky_mouse</td>\n",
       "      <td>2021</td>\n",
       "      <td>6</td>\n",
       "      <td>188.0</td>\n",
       "    </tr>\n",
       "    <tr>\n",
       "      <th>4</th>\n",
       "      <td>A</td>\n",
       "      <td>roadrunner</td>\n",
       "      <td>2021</td>\n",
       "      <td>5</td>\n",
       "      <td>295.0</td>\n",
       "    </tr>\n",
       "  </tbody>\n",
       "</table>\n",
       "</div>"
      ],
      "text/plain": [
       "  product     provider  year  month  order_count\n",
       "0       A  donald_duck  2021      5        146.0\n",
       "1       A  donald_duck  2021      6        109.0\n",
       "2       A  micky_mouse  2021      5        256.0\n",
       "3       A  micky_mouse  2021      6        188.0\n",
       "4       A   roadrunner  2021      5        295.0"
      ]
     },
     "execution_count": 6,
     "metadata": {},
     "output_type": "execute_result"
    }
   ],
   "source": [
    "select = 'order_count'\n",
    "df_total_order_count_per_month = group_by_and_sum_rows(data, \n",
    "                                                          group_by_columns=['product','provider','year','month'], \n",
    "                                                          column_to_sum = select,\n",
    "                                                          resulted_column_name=select)\n",
    "df_total_order_count_per_month.head()"
   ]
  },
  {
   "cell_type": "markdown",
   "id": "familiar-divorce",
   "metadata": {},
   "source": [
    "Append Total orders in a month with monthly data "
   ]
  },
  {
   "cell_type": "code",
   "execution_count": 7,
   "id": "bibliographic-switch",
   "metadata": {},
   "outputs": [
    {
     "data": {
      "text/html": [
       "<div>\n",
       "<style scoped>\n",
       "    .dataframe tbody tr th:only-of-type {\n",
       "        vertical-align: middle;\n",
       "    }\n",
       "\n",
       "    .dataframe tbody tr th {\n",
       "        vertical-align: top;\n",
       "    }\n",
       "\n",
       "    .dataframe thead th {\n",
       "        text-align: right;\n",
       "    }\n",
       "</style>\n",
       "<table border=\"1\" class=\"dataframe\">\n",
       "  <thead>\n",
       "    <tr style=\"text-align: right;\">\n",
       "      <th></th>\n",
       "      <th>product</th>\n",
       "      <th>provider</th>\n",
       "      <th>year</th>\n",
       "      <th>month</th>\n",
       "      <th>revenue</th>\n",
       "      <th>order_count</th>\n",
       "    </tr>\n",
       "  </thead>\n",
       "  <tbody>\n",
       "    <tr>\n",
       "      <th>0</th>\n",
       "      <td>A</td>\n",
       "      <td>donald_duck</td>\n",
       "      <td>2021</td>\n",
       "      <td>5</td>\n",
       "      <td>11477.25</td>\n",
       "      <td>146.0</td>\n",
       "    </tr>\n",
       "    <tr>\n",
       "      <th>1</th>\n",
       "      <td>A</td>\n",
       "      <td>donald_duck</td>\n",
       "      <td>2021</td>\n",
       "      <td>6</td>\n",
       "      <td>8287.00</td>\n",
       "      <td>109.0</td>\n",
       "    </tr>\n",
       "    <tr>\n",
       "      <th>2</th>\n",
       "      <td>A</td>\n",
       "      <td>micky_mouse</td>\n",
       "      <td>2021</td>\n",
       "      <td>5</td>\n",
       "      <td>17991.50</td>\n",
       "      <td>256.0</td>\n",
       "    </tr>\n",
       "    <tr>\n",
       "      <th>3</th>\n",
       "      <td>A</td>\n",
       "      <td>micky_mouse</td>\n",
       "      <td>2021</td>\n",
       "      <td>6</td>\n",
       "      <td>13472.25</td>\n",
       "      <td>188.0</td>\n",
       "    </tr>\n",
       "    <tr>\n",
       "      <th>4</th>\n",
       "      <td>A</td>\n",
       "      <td>roadrunner</td>\n",
       "      <td>2021</td>\n",
       "      <td>5</td>\n",
       "      <td>24854.50</td>\n",
       "      <td>295.0</td>\n",
       "    </tr>\n",
       "  </tbody>\n",
       "</table>\n",
       "</div>"
      ],
      "text/plain": [
       "  product     provider  year  month   revenue  order_count\n",
       "0       A  donald_duck  2021      5  11477.25        146.0\n",
       "1       A  donald_duck  2021      6   8287.00        109.0\n",
       "2       A  micky_mouse  2021      5  17991.50        256.0\n",
       "3       A  micky_mouse  2021      6  13472.25        188.0\n",
       "4       A   roadrunner  2021      5  24854.50        295.0"
      ]
     },
     "execution_count": 7,
     "metadata": {},
     "output_type": "execute_result"
    }
   ],
   "source": [
    "monthly_data_by_product = monthly_data_by_product.merge(df_total_order_count_per_month, how=\"outer\")\n",
    "monthly_data_by_product.head()"
   ]
  },
  {
   "cell_type": "markdown",
   "id": "removed-textbook",
   "metadata": {},
   "source": [
    "Calculate monthly commision"
   ]
  },
  {
   "cell_type": "code",
   "execution_count": 8,
   "id": "essential-thriller",
   "metadata": {},
   "outputs": [
    {
     "data": {
      "text/html": [
       "<div>\n",
       "<style scoped>\n",
       "    .dataframe tbody tr th:only-of-type {\n",
       "        vertical-align: middle;\n",
       "    }\n",
       "\n",
       "    .dataframe tbody tr th {\n",
       "        vertical-align: top;\n",
       "    }\n",
       "\n",
       "    .dataframe thead th {\n",
       "        text-align: right;\n",
       "    }\n",
       "</style>\n",
       "<table border=\"1\" class=\"dataframe\">\n",
       "  <thead>\n",
       "    <tr style=\"text-align: right;\">\n",
       "      <th></th>\n",
       "      <th>product</th>\n",
       "      <th>provider</th>\n",
       "      <th>year</th>\n",
       "      <th>month</th>\n",
       "      <th>revenue</th>\n",
       "      <th>order_count</th>\n",
       "      <th>commision</th>\n",
       "    </tr>\n",
       "  </thead>\n",
       "  <tbody>\n",
       "    <tr>\n",
       "      <th>0</th>\n",
       "      <td>A</td>\n",
       "      <td>donald_duck</td>\n",
       "      <td>2021</td>\n",
       "      <td>5</td>\n",
       "      <td>11477.25</td>\n",
       "      <td>146.0</td>\n",
       "      <td>7300.0</td>\n",
       "    </tr>\n",
       "    <tr>\n",
       "      <th>1</th>\n",
       "      <td>A</td>\n",
       "      <td>donald_duck</td>\n",
       "      <td>2021</td>\n",
       "      <td>6</td>\n",
       "      <td>8287.00</td>\n",
       "      <td>109.0</td>\n",
       "      <td>5450.0</td>\n",
       "    </tr>\n",
       "    <tr>\n",
       "      <th>2</th>\n",
       "      <td>A</td>\n",
       "      <td>micky_mouse</td>\n",
       "      <td>2021</td>\n",
       "      <td>5</td>\n",
       "      <td>17991.50</td>\n",
       "      <td>256.0</td>\n",
       "      <td>10000.0</td>\n",
       "    </tr>\n",
       "    <tr>\n",
       "      <th>3</th>\n",
       "      <td>A</td>\n",
       "      <td>micky_mouse</td>\n",
       "      <td>2021</td>\n",
       "      <td>6</td>\n",
       "      <td>13472.25</td>\n",
       "      <td>188.0</td>\n",
       "      <td>10000.0</td>\n",
       "    </tr>\n",
       "    <tr>\n",
       "      <th>4</th>\n",
       "      <td>A</td>\n",
       "      <td>roadrunner</td>\n",
       "      <td>2021</td>\n",
       "      <td>5</td>\n",
       "      <td>24854.50</td>\n",
       "      <td>295.0</td>\n",
       "      <td>14750.0</td>\n",
       "    </tr>\n",
       "  </tbody>\n",
       "</table>\n",
       "</div>"
      ],
      "text/plain": [
       "  product     provider  year  month   revenue  order_count  commision\n",
       "0       A  donald_duck  2021      5  11477.25        146.0     7300.0\n",
       "1       A  donald_duck  2021      6   8287.00        109.0     5450.0\n",
       "2       A  micky_mouse  2021      5  17991.50        256.0    10000.0\n",
       "3       A  micky_mouse  2021      6  13472.25        188.0    10000.0\n",
       "4       A   roadrunner  2021      5  24854.50        295.0    14750.0"
      ]
     },
     "execution_count": 8,
     "metadata": {},
     "output_type": "execute_result"
    }
   ],
   "source": [
    "monthly_data_by_product['commision'] = monthly_data_by_product.apply(lambda row : get_commision(row['provider'], row[select]), axis = 1)\n",
    "monthly_data_by_product.head()"
   ]
  },
  {
   "cell_type": "markdown",
   "id": "coordinated-policy",
   "metadata": {},
   "source": [
    "#### Calculate Gross Margins"
   ]
  },
  {
   "cell_type": "code",
   "execution_count": 9,
   "id": "brief-opportunity",
   "metadata": {},
   "outputs": [
    {
     "data": {
      "text/html": [
       "<div>\n",
       "<style scoped>\n",
       "    .dataframe tbody tr th:only-of-type {\n",
       "        vertical-align: middle;\n",
       "    }\n",
       "\n",
       "    .dataframe tbody tr th {\n",
       "        vertical-align: top;\n",
       "    }\n",
       "\n",
       "    .dataframe thead th {\n",
       "        text-align: right;\n",
       "    }\n",
       "</style>\n",
       "<table border=\"1\" class=\"dataframe\">\n",
       "  <thead>\n",
       "    <tr style=\"text-align: right;\">\n",
       "      <th></th>\n",
       "      <th>product</th>\n",
       "      <th>provider</th>\n",
       "      <th>year</th>\n",
       "      <th>month</th>\n",
       "      <th>revenue</th>\n",
       "      <th>order_count</th>\n",
       "      <th>commision</th>\n",
       "      <th>gross_margin(%)</th>\n",
       "    </tr>\n",
       "  </thead>\n",
       "  <tbody>\n",
       "    <tr>\n",
       "      <th>0</th>\n",
       "      <td>A</td>\n",
       "      <td>donald_duck</td>\n",
       "      <td>2021</td>\n",
       "      <td>5</td>\n",
       "      <td>11477.25</td>\n",
       "      <td>146.0</td>\n",
       "      <td>7300.0</td>\n",
       "      <td>36.395914</td>\n",
       "    </tr>\n",
       "    <tr>\n",
       "      <th>1</th>\n",
       "      <td>A</td>\n",
       "      <td>donald_duck</td>\n",
       "      <td>2021</td>\n",
       "      <td>6</td>\n",
       "      <td>8287.00</td>\n",
       "      <td>109.0</td>\n",
       "      <td>5450.0</td>\n",
       "      <td>34.234343</td>\n",
       "    </tr>\n",
       "    <tr>\n",
       "      <th>2</th>\n",
       "      <td>A</td>\n",
       "      <td>micky_mouse</td>\n",
       "      <td>2021</td>\n",
       "      <td>5</td>\n",
       "      <td>17991.50</td>\n",
       "      <td>256.0</td>\n",
       "      <td>10000.0</td>\n",
       "      <td>44.418197</td>\n",
       "    </tr>\n",
       "    <tr>\n",
       "      <th>3</th>\n",
       "      <td>A</td>\n",
       "      <td>micky_mouse</td>\n",
       "      <td>2021</td>\n",
       "      <td>6</td>\n",
       "      <td>13472.25</td>\n",
       "      <td>188.0</td>\n",
       "      <td>10000.0</td>\n",
       "      <td>25.773349</td>\n",
       "    </tr>\n",
       "    <tr>\n",
       "      <th>4</th>\n",
       "      <td>A</td>\n",
       "      <td>roadrunner</td>\n",
       "      <td>2021</td>\n",
       "      <td>5</td>\n",
       "      <td>24854.50</td>\n",
       "      <td>295.0</td>\n",
       "      <td>14750.0</td>\n",
       "      <td>40.654610</td>\n",
       "    </tr>\n",
       "  </tbody>\n",
       "</table>\n",
       "</div>"
      ],
      "text/plain": [
       "  product     provider  year  month   revenue  order_count  commision  \\\n",
       "0       A  donald_duck  2021      5  11477.25        146.0     7300.0   \n",
       "1       A  donald_duck  2021      6   8287.00        109.0     5450.0   \n",
       "2       A  micky_mouse  2021      5  17991.50        256.0    10000.0   \n",
       "3       A  micky_mouse  2021      6  13472.25        188.0    10000.0   \n",
       "4       A   roadrunner  2021      5  24854.50        295.0    14750.0   \n",
       "\n",
       "   gross_margin(%)  \n",
       "0        36.395914  \n",
       "1        34.234343  \n",
       "2        44.418197  \n",
       "3        25.773349  \n",
       "4        40.654610  "
      ]
     },
     "execution_count": 9,
     "metadata": {},
     "output_type": "execute_result"
    }
   ],
   "source": [
    "monthly_data_by_product['gross_margin(%)'] = (monthly_data_by_product['revenue']-monthly_data_by_product['commision'])*100/monthly_data_by_product['revenue']\n",
    "monthly_data_by_product.head()"
   ]
  },
  {
   "cell_type": "markdown",
   "id": "approved-steel",
   "metadata": {},
   "source": [
    "Plot Monthly gross margin"
   ]
  },
  {
   "cell_type": "code",
   "execution_count": 10,
   "id": "arranged-valve",
   "metadata": {},
   "outputs": [
    {
     "data": {
      "image/png": "[encoded data removed]",
      "text/plain": [
       "<Figure size 842.4x595.44 with 1 Axes>"
      ]
     },
     "metadata": {},
     "output_type": "display_data"
    }
   ],
   "source": [
    "plot_bargraph(monthly_data_by_product,\n",
    "                  x_axis_column='month',\n",
    "                  y_axis_column='gross_margin(%)',\n",
    "                  x_label_name= 'Month',\n",
    "                  y_label_name='gross_margin(%)',\n",
    "                  title='Profit by month',\n",
    "                  save_path = None)"
   ]
  },
  {
   "cell_type": "markdown",
   "id": "three-boston",
   "metadata": {},
   "source": [
    "Monthly Gross Margin by Product and Provider"
   ]
  },
  {
   "cell_type": "code",
   "execution_count": 13,
   "id": "statewide-reform",
   "metadata": {},
   "outputs": [
    {
     "data": {
      "image/png": "[encoded data removed]",
      "text/plain": [
       "<Figure size 842.4x595.44 with 2 Axes>"
      ]
     },
     "metadata": {},
     "output_type": "display_data"
    }
   ],
   "source": [
    "create_several_barplots_in_a_figure(monthly_data_by_product,\n",
    "                                    ['product', 'provider',],\n",
    "                                    ['gross_margin(%)','gross_margin(%)',],\n",
    "                                    ['month', 'month',],\n",
    "                                    figure_title ='Monthly Gross margin(%) by products and providers',\n",
    "                                    num_subplots=2,\n",
    "\n",
    "                                    )"
   ]
  },
  {
   "cell_type": "markdown",
   "id": "fluid-astrology",
   "metadata": {},
   "source": [
    "# Recommendation to the Management for next steps\n",
    "   - Identify the contributors towards negative profit\n",
    "       - Product B,D along with provider tom_jerry seems to be the main contributor towards negative profit margin"
   ]
  },
  {
   "cell_type": "markdown",
   "id": "breeding-excuse",
   "metadata": {},
   "source": [
    "#### Investigating Product B"
   ]
  },
  {
   "cell_type": "code",
   "execution_count": 14,
   "id": "biblical-puppy",
   "metadata": {},
   "outputs": [
    {
     "data": {
      "image/png": "[encoded data removed]",
      "text/plain": [
       "<Figure size 842.4x595.44 with 1 Axes>"
      ]
     },
     "metadata": {},
     "output_type": "display_data"
    }
   ],
   "source": [
    "plot_bargraph(monthly_data_by_product[monthly_data_by_product['product']=='B'],\n",
    "                  x_axis_column='provider',\n",
    "                  y_axis_column='gross_margin(%)',\n",
    "                  hue_column_name='month',\n",
    "                  x_label_name= 'Provider',\n",
    "                  y_label_name='gross_margin(%)',\n",
    "                  title='Investigating Product D',\n",
    "                  save_path = None)"
   ]
  },
  {
   "cell_type": "markdown",
   "id": "ambient-chemistry",
   "metadata": {},
   "source": [
    "Remarks: \n",
    "   - Stop purchasing product 'B' from roadrunner\n",
    "   - investigate product quality from tom_jerry\n",
    "   - stop offering if no possible solution found (i.e. possible cause of failure and no other providers offering the product)"
   ]
  },
  {
   "cell_type": "markdown",
   "id": "noticed-twins",
   "metadata": {},
   "source": [
    "#### Investigating Product D"
   ]
  },
  {
   "cell_type": "code",
   "execution_count": 15,
   "id": "fallen-typing",
   "metadata": {},
   "outputs": [
    {
     "data": {
      "image/png": "[encoded data removed]",
      "text/plain": [
       "<Figure size 842.4x595.44 with 1 Axes>"
      ]
     },
     "metadata": {},
     "output_type": "display_data"
    }
   ],
   "source": [
    "plot_bargraph(monthly_data_by_product[monthly_data_by_product['product']=='D'],\n",
    "                  x_axis_column='provider',\n",
    "                  y_axis_column='gross_margin(%)',\n",
    "                  hue_column_name='month',\n",
    "                  x_label_name= 'Provider',\n",
    "                  y_label_name='gross_margin(%)',\n",
    "                  title='Investigating Product D',\n",
    "                  save_path = None)"
   ]
  },
  {
   "cell_type": "markdown",
   "id": "unexpected-essex",
   "metadata": {},
   "source": [
    "\n",
    "   - Stop purchasing product 'D' from tom_jerry"
   ]
  }
 ],
 "metadata": {
  "kernelspec": {
   "display_name": "Python 3 (ipykernel)",
   "language": "python",
   "name": "python3"
  },
  "language_info": {
   "codemirror_mode": {
    "name": "ipython",
    "version": 3
   },
   "file_extension": ".py",
   "mimetype": "text/x-python",
   "name": "python",
   "nbconvert_exporter": "python",
   "pygments_lexer": "ipython3",
   "version": "3.8.11"
  }
 },
 "nbformat": 4,
 "nbformat_minor": 5
}
